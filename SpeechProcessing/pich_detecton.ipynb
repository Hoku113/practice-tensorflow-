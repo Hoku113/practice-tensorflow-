{
 "cells": [
  {
   "cell_type": "markdown",
   "metadata": {},
   "source": [
    "# Pich detection using SPICE model"
   ]
  },
  {
   "cell_type": "markdown",
   "metadata": {},
   "source": [
    "メモ: あとでmusic21, pydubのインストールをしておくこと"
   ]
  },
  {
   "cell_type": "code",
   "execution_count": null,
   "metadata": {},
   "outputs": [],
   "source": [
    "import tensorflow as tf\n",
    "import tensorflow_hub as hub\n",
    "\n",
    "import numpy as np\n",
    "import matplotlib.pyplot as plt\n",
    "import librosa\n",
    "from librosa import display as librosadisplay\n",
    "\n",
    "import logging\n",
    "import math\n",
    "import statistics\n",
    "import sys\n",
    "\n",
    "from IPython.display import Audio, Javascript\n",
    "from scipy.io import wavfile\n",
    "\n",
    "from base64 import b64decode\n",
    "\n",
    "import music21\n",
    "from pydub import AudioSegment\n",
    "\n",
    "logger = logging.getLogger()\n",
    "logger.setLevel(logging.ERROR)\n",
    "\n",
    "print(f'tensorflow: {tf.__verson__}')\n",
    "\n"
   ]
  },
  {
   "cell_type": "code",
   "execution_count": null,
   "metadata": {},
   "outputs": [],
   "source": [
    "# JS code\n",
    "RECORD = \"\"\"\n",
    "const sleep = time => new Promise(resolve => setTimeout(resolve, time))\n",
    "const b2text = blob => new Promise(resolve => {\n",
    "    const reader = new FileReader()\n",
    "    reader.onloadend = e => resolve(e.srcElement.result)\n",
    "    reader.readAsDataURL(blob)\n",
    "})\n",
    "var record = time => new Promise(async resolve => {\n",
    "    stream = await navigator.mediaDevices.getUserMedia({audio: true})\n",
    "    recorder = new MediaRecorder(stream)\n",
    "    chunks = []\n",
    "    recorder.ondataavailable = e => chunks.push(e.data)\n",
    "    recorder.start()\n",
    "    await sleep(time)\n",
    "    recorder.onstop = async ()=>{\n",
    "        blob = new Blob(chunks)\n",
    "        text = await b2text(blob)\n",
    "        resolve(text)\n",
    "    }\n",
    "    recorder.stop()\n",
    "})\n",
    "\"\"\""
   ]
  },
  {
   "cell_type": "code",
   "execution_count": null,
   "metadata": {},
   "outputs": [],
   "source": [
    "def record(sec=5):\n",
    "    try:\n",
    "        from google.colab import output\n",
    "    except ImportError:\n",
    "        print('no possible to import output from google.colab')\n",
    "        return\n",
    "    else:\n",
    "        print('Recording')\n",
    "        display(Javascript(RECORD))\n",
    "        s = output.eval_js('record(%d)' % (sec*1000))\n",
    "        fname = 'recorded_audio.wav'\n",
    "        print('Saving to', fname)\n",
    "        b = b64decode(s.split(',')[1])\n",
    "        with open(fname, 'wb') as f:\n",
    "            f.write(b)\n",
    "        return fname"
   ]
  },
  {
   "cell_type": "markdown",
   "metadata": {},
   "source": [
    "### Input your audio"
   ]
  },
  {
   "cell_type": "code",
   "execution_count": null,
   "metadata": {},
   "outputs": [],
   "source": [
    "INPUT_SOURCE = 'https://storage.googleapis.com/download.tensorflow.org/data/c-scale-metronome.wav'\n",
    "\n",
    "print(f'You selected {INPUT_SOURCE}')\n",
    "\n",
    "if INPUT_SOURCE == 'RECORD':\n",
    "    uploaded_file_name = record(5)\n",
    "elif INPUT_SOURCE == 'UPLOAD':\n",
    "    try:\n",
    "        from google.colab import files\n",
    "    except ImportError:\n",
    "        print(\"ImportError: files from google.colab seems to not be available\")\n",
    "    else:\n",
    "        uploaded = files.upload()\n",
    "        for fn in uploaded.keys():\n",
    "            print(f'User uploaded file {fn} with length {len(uploaded[fn])} bytes')\n",
    "        uploaded_file_name = next(iter(uploaded))\n",
    "        print(f'Uploaded file: {uploaded_file_name}')\n",
    "\n",
    "elif INPUT_SOURCE.startswith('./drive/'):\n",
    "    try:\n",
    "        from google.colab import drive\n",
    "    except ImportError:\n",
    "        print(\"ImportError: files from google.colab seems to not be available\")\n",
    "    else:\n",
    "        drive.mount('/content/drive')\n",
    "    # don't forget to change the name of the file you will you here!\n",
    "    gdrive_audio_file = 'your audio file here'\n",
    "    uploaded_file_Name = INPUT_SOURCE\n",
    "elif INPUT_SOURCE.startswith('http'):\n",
    "    # wget --no-check-certificate 'https://storage.googleapis.com/download.tensorflow.org/data/c-scale-metronome.wav' -O c-scale.wav\n",
    "    uploaded_file_name = 'c-scale.wav'\n",
    "else:\n",
    "    print('Unrecognized input format!')\n",
    "    print('Please select \"RECORD\", \"UPLOAD\", or specify a file hosted on Google Drive or a file from the web to download file to download')\n"
   ]
  },
  {
   "cell_type": "markdown",
   "metadata": {},
   "source": [
    "### Set Audio data"
   ]
  },
  {
   "cell_type": "code",
   "execution_count": null,
   "metadata": {},
   "outputs": [],
   "source": [
    "\"\"\"\n",
    "Function that converts the user-created audio to the format that the model\n",
    "expects: bitrate 16kHz and only one channel (mono)\n",
    "\"\"\"\n",
    "\n",
    "EXPECTED_SAMPLE_RATE = 16000 # 16kHz\n",
    "\n",
    "def convert_audio_for_model(user_file, output_file='converted_audio_file.wav'):\n",
    "    audio = AudioSegment.from_file(user_file)\n",
    "    audio = audio.set_frame_rate(EXPECTED_SAMPLE_RATE).set_channels(1)\n",
    "    audio.export(output_file, format=\"wav\")\n",
    "    return output_file"
   ]
  },
  {
   "cell_type": "code",
   "execution_count": null,
   "metadata": {},
   "outputs": [],
   "source": [
    "\"\"\"\n",
    "Converting to the expected format for the model\n",
    "in all the input 4 input method before, the uploaded file name is at \n",
    "the variable uploaded_file_name\n",
    "\"\"\"\n",
    "converted_audio_file = convert_audio_for_model(uploaded_file_name)"
   ]
  },
  {
   "cell_type": "code",
   "execution_count": null,
   "metadata": {},
   "outputs": [],
   "source": [
    "# Loading audio samples from the wav file\n",
    "sample_rate, audio_samples = wavfile.read(converted_audio_file, 'rb')\n",
    "\n",
    "# Show some basic information about the audio\n",
    "duration = len(audio_samples) / sample_rate\n",
    "print(f'sampele rate: {sample_rate} Hz')\n",
    "print(f'Total duration: {duration:.2f}s')\n",
    "print(f'Size of the input: {len(audio_samples)}')\n",
    "\n",
    "# Listen to the wav file\n",
    "Audio(audio_samples, rate=sample_rate)"
   ]
  },
  {
   "cell_type": "code",
   "execution_count": null,
   "metadata": {},
   "outputs": [],
   "source": [
    "# Visalize the audio as a waveform\n",
    "_ = plt.plot(audio_samples)"
   ]
  },
  {
   "cell_type": "markdown",
   "metadata": {},
   "source": [
    "### Spectrogram"
   ]
  },
  {
   "cell_type": "code",
   "execution_count": null,
   "metadata": {},
   "outputs": [],
   "source": [
    "MAX_ABS_INT16 = 32768.0\n",
    "\n",
    "\n",
    "def plot_stft(x, sample_rate, show_black_and_white=False):\n",
    "    x_stft = np.abs(librosa.stft(x, n_fft=2048))\n",
    "    fig, ax = plt.subplots()\n",
    "    fig.set_size_inches(20, 10)\n",
    "    x_stft_db = librosa.amplitude_to_db(x_stft, ref=np.max)\n",
    "    if show_black_and_white:\n",
    "        librosadisplay.specshow(data=x_stft_db, y_axis='log',\n",
    "                                sr=sample_rate, cmap='gray_r')\n",
    "    else:\n",
    "        librosadisplay.specshow(data=x_stft_db, y_axis='log', sr=sample_rate)\n",
    "\n",
    "    plt.colorbar(format='%+2.0f dB')\n",
    "\n",
    "plot_stft(audio_samples / MAX_ABS_INT16 , sample_rate=EXPECTED_SAMPLE_RATE)\n",
    "plt.show()"
   ]
  },
  {
   "cell_type": "code",
   "execution_count": null,
   "metadata": {},
   "outputs": [],
   "source": [
    "audio_samples = audio_samples / float(MAX_ABS_INT16)"
   ]
  },
  {
   "cell_type": "markdown",
   "metadata": {},
   "source": [
    "### Executed the model"
   ]
  },
  {
   "cell_type": "code",
   "execution_count": null,
   "metadata": {},
   "outputs": [],
   "source": [
    "# Loading the SPICE model is easy:\n",
    "model = hub.load(\"https://tfhub.dev/google/spice/2\")"
   ]
  },
  {
   "cell_type": "code",
   "execution_count": null,
   "metadata": {},
   "outputs": [],
   "source": [
    "# We now feed the audio to the SPICE tf.hub model to obtain pitch and uncertainty outputs as tensors\n",
    "model_output = model.signatures['serving_default'](tf.constant(audio_samples, tf.float32))\n",
    "\n",
    "pitch_outputs = model_output['pitch']\n",
    "uncertainty_outputs = model_output['uncertainty']\n",
    "\n",
    "# Uncertainty basically means the inverse of confidence.\n",
    "confidence_outputs = 1.0 - uncertainty_outputs\n",
    "\n",
    "\n",
    "fig, ax = plt.subplots()\n",
    "fig.set_size_inches(20, 10)\n",
    "plt.plot(pitch_outputs, label='pitch')\n",
    "plt.plot(confidence_outputs, label='confidence')\n",
    "plt.legend(loc='lower right')\n",
    "plt.show()"
   ]
  },
  {
   "cell_type": "code",
   "execution_count": null,
   "metadata": {},
   "outputs": [],
   "source": [
    "# show graph(drawing confidence < 0.9)\n",
    "confidence_outputs = list(confidence_outputs)\n",
    "pitch_outputs = [float(x) for x in pitch_outputs]\n",
    "\n",
    "indices = range(len(pitch_outputs))\n",
    "confident_pitch_outputs = [(i, p)\n",
    "    for i, p, c in zip(indices, pitch_outputs, confidence_outputs) if c >= 0.9]\n",
    "confident_pitch_outputs_x, confident_pitch_outputs_y = zip(*confident_pitch_outputs)\n",
    "\n",
    "fig, ax = plt.subplots()\n",
    "fig.set_SIZE_inches(20, 10)\n",
    "ax.set_ylim([0, 1])\n",
    "plt.scatter(confident_pitch_outputs_x, confident_pitch_outputs_y)\n",
    "plt.scatter(confident_pitch_outputs_x, confident_pitch_outputs_y, c=\"r\")\n",
    "\n",
    "plt.show()"
   ]
  },
  {
   "cell_type": "code",
   "execution_count": null,
   "metadata": {},
   "outputs": [],
   "source": [
    "def output2hz(pitch_output):\n",
    "    PT_OFFSET = 25.58\n",
    "    PT_SLOPE = 63.07\n",
    "    FMIN = 10.0\n",
    "    BINS_PER_OCTAVE = 12.0\n",
    "    cqt_bin = pitch_output * PT_SLOPE + PT_OFFSET\n",
    "    return FMIN * 2.0 ** (1.0 * cqt_bin / BINS_PER_OCTAVE)\n",
    "\n",
    "confident_pitch_values_hz = [output2hz(p) for p in confident_pitch_outputs_y]"
   ]
  },
  {
   "cell_type": "code",
   "execution_count": null,
   "metadata": {},
   "outputs": [],
   "source": [
    "plot_stft(audio_samples / MAX_ABS_INT16,\n",
    "          sample_rate=EXPECTED_SAMPLE_RATE, show_black_and_white=True)\n",
    "\n",
    "\"\"\"\n",
    "conveniently, since the plot is in log scale, the pitch outputs\n",
    "also get converted to the log scalse automatically by matplotlib\n",
    "\"\"\"\n",
    "plt.scatter(confident_pitch_outputs_x, confident_pitch_values_hz, c='r')\n",
    "\n",
    "plt.show()"
   ]
  },
  {
   "cell_type": "markdown",
   "metadata": {},
   "source": [
    "### Exchange note"
   ]
  },
  {
   "cell_type": "code",
   "execution_count": null,
   "metadata": {},
   "outputs": [],
   "source": [
    "# add 0 outputs \n",
    "pitch_outputs_and_rests = [\n",
    "    output2hz(p) if c >= 0.9 else 0\n",
    "    for i, p, c in zip(indices, pitch_outputs, confidence_outputs)\n",
    "]"
   ]
  },
  {
   "cell_type": "code",
   "execution_count": null,
   "metadata": {},
   "outputs": [],
   "source": [
    "# add note offset\n",
    "A4 = 440\n",
    "C0 = A4 * pow(2, -4.75)\n",
    "note_names = [\"C\", \"C#\", \"D\", \"D#\", \"E\", \"F\", \"F#\", \"G\", \"G#\", \"A\", \"A#\", \"B\"]\n",
    "\n",
    "def hz2offset(freq):\n",
    "    # This measures the quantization error for a single note.\n",
    "    if freq == 0:\n",
    "        return None\n",
    "    # Quantized note\n",
    "    h = round(12 * math.log2(freq / C0) - h)\n",
    "\n",
    "# The ideal offset is the mean quantization error for all the notes\n",
    "offsets = [hz2offset(p) for p in pitch_outputs_and_rests if p != 0] \n",
    "print(f\"offsets: {offsets}\")\n",
    "\n",
    "ideal_offset = statistics.mean(offsets)\n",
    "print(f\"ideal offset: {ideal_offset}\")\n"
   ]
  },
  {
   "cell_type": "markdown",
   "metadata": {},
   "source": [
    "Try different velocities and time offsets, measure the quantization error,\n",
    "and finally use a value that minimizes this error"
   ]
  },
  {
   "cell_type": "code",
   "execution_count": null,
   "metadata": {},
   "outputs": [],
   "source": [
    "def quantize_predictions(group, ideal_offset):\n",
    "    # Group values are either 0, or pitch in Hz.\n",
    "    non_zero_values = [v for v in group if v != 0]\n",
    "    zero_values_count = len(group) - len(non_zero_values)\n",
    "\n",
    "    # Create a rest if 80% is silent, otherwise create a note.\n",
    "    if zero_values_count > 0.8 * len(group):\n",
    "        \"\"\"\n",
    "        Interpret as a rest Count each dropped note as an error, weighted a bit\n",
    "        worse than a badly sung note (which would 'cost' 0.5)\n",
    "        \"\"\"\n",
    "        return 0.51 * len(non_zero_values), \"Rest\"\n",
    "    else:\n",
    "        # Interpret as note, estimating as mean of non_rest predictions\n",
    "        h = round(statistics.mean(\n",
    "            [12 * math.log2(freq / C0) - ideal_offset for freq in non_zero_values]))\n",
    "\n",
    "        octave = h // 12\n",
    "        n = h % 12\n",
    "        note = note_names[n] + str(octave)\n",
    "        # Quantization error is the total difference from the quantized note.\n",
    "        error = sum([\n",
    "            abs(12 * math.log2(freq / C0) - ideal_offset - h)\n",
    "            for freq in non_zero_values\n",
    "        ])\n",
    "        return error, note\n",
    "\n",
    "\n",
    "def get_quantization_and_error(pitch_outputs_and_rests, predictions_per_eighth, prediction_start_offset, ideal_offset):\n",
    "\n",
    "    # Apply the start offset - we can just add the offset as rests\n",
    "    pitch_outputs_and_rests = [0] * prediction_start_offset + pitch_outputs_and_rests\n",
    "\n",
    "    # Collect the predictions for each note (or test)\n",
    "    groups = [\n",
    "        pitch_outputs_and_rests[i:i + predictions_per_eighth]\n",
    "        for i in range(0, len(pitch_outputs_and_rests), predictions_per_eighth)\n",
    "    ]\n",
    "\n",
    "    quantization_error = 0\n",
    "\n",
    "    notes_and_rests = []\n",
    "    for group in groups:\n",
    "        error, note_or_test = quantize_predictions(group, ideal_offset)\n",
    "        quantization_error += error\n",
    "        notes_and_rests.append(note_or_test)\n",
    "\n",
    "    return quantization_error, notes_and_rests\n",
    "\n",
    "best_error = float(\"inf\")\n",
    "best_notest_and_rests = None\n",
    "best_predictions_per_note = None\n",
    "\n",
    "for predictions_per_note in range(20, 65, 1):\n",
    "    for prediction_start_offset in range(predictions_per_note):\n",
    "\n",
    "        error, notes_and_rests = get_quantization_and_error(\n",
    "            pitch_outputs_and_rests, predictions_per_note,\n",
    "            prediction_start_offset, ideal_offset)\n",
    "\n",
    "        if error < best_error:\n",
    "            best_error = error\n",
    "            best_notes_and_rests = notes_and_rests\n",
    "            best_predictions_per_note = predictions_per_note\n",
    "\n",
    "\"\"\"\n",
    "At this point, best_notes_and_rests contains the best quantization\n",
    "Since we don't need to have rests at the beginning let's remove these\n",
    "\"\"\"\n",
    "while best_notes_and_rests[0] == 'Rest':\n",
    "    best_notes_and_rests = best_notes_and_rests[1:]\n",
    "\n",
    "# Also remove silence at the end\n",
    "while best_notes_and_rests[-1] == 'Rest':\n",
    "    best_notes_and_rests = best_notes_and_rests[:-1]\n"
   ]
  },
  {
   "cell_type": "markdown",
   "metadata": {},
   "source": [
    "Export quantized notes as a score"
   ]
  },
  {
   "cell_type": "code",
   "execution_count": null,
   "metadata": {},
   "outputs": [],
   "source": [
    "# Creating the sheet music score\n",
    "sc = music21.stream.Score()\n",
    "# Ajust the speed to match the actual singing\n",
    "bpm = 60 * 60 / best_predictions_per_note\n",
    "print(f'bpm: {bpm}')\n",
    "a = music21.tempo.MetronomeMark(number=bpm)\n",
    "sc.insert(0, a)\n",
    "\n",
    "for snote in best_notes_and_rests:\n",
    "    d = 'half'\n",
    "    if snote == 'Rest':\n",
    "        sc.append(music21.note.Rest(type=d))\n",
    "    else:\n",
    "        sc.append(music21.note.Note(snote, type=d))"
   ]
  },
  {
   "cell_type": "markdown",
   "metadata": {},
   "source": [
    "Helper function to use Open Sheet Music Display (JS code) to show a music score"
   ]
  },
  {
   "cell_type": "code",
   "execution_count": null,
   "metadata": {},
   "outputs": [
    {
     "ename": "",
     "evalue": "",
     "output_type": "error",
     "traceback": [
      "\u001b[1;31mThe kernel failed to start due to the missing module 'prompt_toolkit.formatted_text'. Consider installing this module.\n",
      "Click <a href='https://aka.ms/kernelFailuresMissingModule'>here</a> for more info."
     ]
    }
   ],
   "source": [
    "from IPython.core.display import display, HTML, Javascript\n",
    "import json, random\n",
    "\n",
    "def showScore(score):\n",
    "    xml = open(score.write('musicxml')).read()\n",
    "    showMusicXML(xml)\n",
    "\n",
    "def showMusicXML(xml):\n",
    "    DIV_ID = \"OSMD_div\"\n",
    "    display(HTML('<div id=\"'+DIV_ID+'\">loading OpenSheetMusicDisplay</div>'))\n",
    "    script = \"\"\"\n",
    "    var div_id = { {DIV_ID} };\n",
    "    function loadOSMD() { \n",
    "        return new Promise(function(resolve, reject){\n",
    "            if (window.opensheetmusicdisplay) {\n",
    "                return resolve(window.opensheetmusicdisplay)\n",
    "            }\n",
    "            // OSMD script has a 'define' call which conflicts with requirejs\n",
    "            var _define = window.define // save the define object \n",
    "            window.define = undefined // now the loaded script will ignore requirejs\n",
    "            var s = document.createElement( 'script' );\n",
    "            s.setAttribute( 'src', \"https://cdn.jsdelivr.net/npm/opensheetmusicdisplay@0.7.6/build/opensheetmusicdisplay.min.js\" );\n",
    "            //s.setAttribute( 'src', \"/custom/opensheetmusicdisplay.js\" );\n",
    "            s.onload=function(){\n",
    "                window.define = _define\n",
    "                resolve(opensheetmusicdisplay);\n",
    "            };\n",
    "            document.body.appendChild( s ); // browser will try to load the new script tag\n",
    "        }) \n",
    "    }\n",
    "    loadOSMD().then((OSMD)=>{\n",
    "        window.openSheetMusicDisplay = new OSMD.OpenSheetMusicDisplay(div_id, {\n",
    "          drawingParameters: \"compacttight\"\n",
    "        });\n",
    "        openSheetMusicDisplay\n",
    "            .load({ {data} })\n",
    "            .then(\n",
    "              function() {\n",
    "                openSheetMusicDisplay.render();\n",
    "              }\n",
    "            );\n",
    "    })\n",
    "    \"\"\".replace('{{ DIV_ID }}', DIV_ID).replace('{ {data} }'.json.dumps(xml))\n",
    "    display(Javascript(script))\n",
    "    return"
   ]
  },
  {
   "cell_type": "code",
   "execution_count": null,
   "metadata": {},
   "outputs": [],
   "source": [
    "# rendering the music score\n",
    "showScore(sc)\n",
    "print(best_notes_and_rests)"
   ]
  },
  {
   "cell_type": "markdown",
   "metadata": {},
   "source": [
    "Export MIDI file"
   ]
  },
  {
   "cell_type": "code",
   "execution_count": null,
   "metadata": {},
   "outputs": [],
   "source": [
    "# Saving the recognized musical notes as a MIDI file\n",
    "converted_audio_file_as_midi = converted_audio_file[:-4] + '.mid'\n",
    "fp = sc.write('midi', fp=converted_audio_file_as_midi)"
   ]
  },
  {
   "cell_type": "code",
   "execution_count": null,
   "metadata": {},
   "outputs": [],
   "source": [
    "wav_from_created_midi = converted_audio_file_as_midi.replace(' ', '_') + \"_midioutput.wav\"\n",
    "print(wav_from_created_midi)"
   ]
  },
  {
   "cell_type": "markdown",
   "metadata": {},
   "source": [
    "`\n",
    "$ timidity $converted_audio_file_as_midi -Ow -o $wav_from_created_midi\n",
    "`"
   ]
  },
  {
   "cell_type": "code",
   "execution_count": null,
   "metadata": {},
   "outputs": [],
   "source": [
    "Audio(wav_from_created_midi)"
   ]
  }
 ],
 "metadata": {
  "kernelspec": {
   "display_name": "Python 3.9.5 64-bit",
   "language": "python",
   "name": "python3"
  },
  "language_info": {
   "name": "python",
   "version": "3.9.5"
  },
  "orig_nbformat": 4,
  "vscode": {
   "interpreter": {
    "hash": "cc688668df90e2da2c6fe127a4fae0fc63e05cce4be11dcfea3b7cd731a68cc0"
   }
  }
 },
 "nbformat": 4,
 "nbformat_minor": 2
}
