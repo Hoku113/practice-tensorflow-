{
 "cells": [
  {
   "cell_type": "markdown",
   "metadata": {},
   "source": [
    "# Pich detection using SPICE model"
   ]
  },
  {
   "cell_type": "markdown",
   "metadata": {},
   "source": [
    "メモ: あとでmusic21, pydubのインストールをしておくこと"
   ]
  },
  {
   "cell_type": "code",
   "execution_count": null,
   "metadata": {},
   "outputs": [],
   "source": [
    "import tensorflow as tf\n",
    "import tensorflow_hub as hub\n",
    "\n",
    "import numpy as np\n",
    "import matplotlib.pyplot as plt\n",
    "import librosa\n",
    "from librosa import display as librosadisplay\n",
    "\n",
    "import logging\n",
    "import math\n",
    "import statistics\n",
    "import sys\n",
    "\n",
    "from IPython.display import Audio, Javascript\n",
    "from scipy.io import wavfile\n",
    "\n",
    "from base64 import b64decode\n",
    "\n",
    "import music21\n",
    "from pydub import AudioSegment\n",
    "\n",
    "logger = logging.getLogger()\n",
    "logger.setLevel(logging.ERROR)\n",
    "\n",
    "print(f'tensorflow: {tf.__verson__}')\n",
    "\n"
   ]
  },
  {
   "cell_type": "code",
   "execution_count": null,
   "metadata": {},
   "outputs": [],
   "source": [
    "# JS code\n",
    "RECORD = \"\"\"\n",
    "const sleep = time => new Promise(resolve => setTimeout(resolve, time))\n",
    "const b2text = blob => new Promise(resolve => {\n",
    "    const reader = new FileReader()\n",
    "    reader.onloadend = e => resolve(e.srcElement.result)\n",
    "    reader.readAsDataURL(blob)\n",
    "})\n",
    "var record = time => new Promise(async resolve => {\n",
    "    stream = await navigator.mediaDevices.getUserMedia({audio: true})\n",
    "    recorder = new MediaRecorder(stream)\n",
    "    chunks = []\n",
    "    recorder.ondataavailable = e => chunks.push(e.data)\n",
    "    recorder.start()\n",
    "    await sleep(time)\n",
    "    recorder.onstop = async ()=>{\n",
    "        blob = new Blob(chunks)\n",
    "        text = await b2text(blob)\n",
    "        resolve(text)\n",
    "    }\n",
    "    recorder.stop()\n",
    "})\n",
    "\"\"\""
   ]
  },
  {
   "cell_type": "code",
   "execution_count": null,
   "metadata": {},
   "outputs": [],
   "source": [
    "def record(sec=5):\n",
    "    try:\n",
    "        from google.colab import output\n",
    "    except ImportError:\n",
    "        print('no possible to import output from google.colab')\n",
    "        return\n",
    "    else:\n",
    "        print('Recording')\n",
    "        display(Javascript(RECORD))\n",
    "        s = output.eval_js('record(%d)' % (sec*1000))\n",
    "        fname = 'recorded_audio.wav'\n",
    "        print('Saving to', fname)\n",
    "        b = b64decode(s.split(',')[1])\n",
    "        with open(fname, 'wb') as f:\n",
    "            f.write(b)\n",
    "        return fname"
   ]
  },
  {
   "cell_type": "markdown",
   "metadata": {},
   "source": [
    "### Input your audio"
   ]
  },
  {
   "cell_type": "code",
   "execution_count": null,
   "metadata": {},
   "outputs": [],
   "source": [
    "INPUT_SOURCE = 'https://storage.googleapis.com/download.tensorflow.org/data/c-scale-metronome.wav'\n",
    "\n",
    "print(f'You selected {INPUT_SOURCE}')\n",
    "\n",
    "if INPUT_SOURCE == 'RECORD':\n",
    "    uploaded_file_name = record(5)\n",
    "elif INPUT_SOURCE == 'UPLOAD':\n",
    "    try:\n",
    "        from google.colab import files\n",
    "    except ImportError:\n",
    "        print(\"ImportError: files from google.colab seems to not be available\")\n",
    "    else:\n",
    "        uploaded = files.upload()\n",
    "        for fn in uploaded.keys():\n",
    "            print(f'User uploaded file {fn} with length {len(uploaded[fn])} bytes')\n",
    "        uploaded_file_name = next(iter(uploaded))\n",
    "        print(f'Uploaded file: {uploaded_file_name}')\n",
    "\n",
    "elif INPUT_SOURCE.startswith('./drive/'):\n",
    "    try:\n",
    "        from google.colab import drive\n",
    "    except ImportError:\n",
    "        print(\"ImportError: files from google.colab seems to not be available\")\n",
    "    else:\n",
    "        drive.mount('/content/drive')\n",
    "    # don't forget to change the name of the file you will you here!\n",
    "    gdrive_audio_file = 'your audio file here'\n",
    "    uploaded_file_Name = INPUT_SOURCE\n",
    "elif INPUT_SOURCE.startswith('http'):\n",
    "    # wget --no-check-certificate 'https://storage.googleapis.com/download.tensorflow.org/data/c-scale-metronome.wav' -O c-scale.wav\n",
    "    uploaded_file_name = 'c-scale.wav'\n",
    "else:\n",
    "    print('Unrecognized input format!')\n",
    "    print('Please select \"RECORD\", \"UPLOAD\", or specify a file hosted on Google Drive or a file from the web to download file to download')\n"
   ]
  },
  {
   "cell_type": "code",
   "execution_count": null,
   "metadata": {},
   "outputs": [],
   "source": []
  },
  {
   "cell_type": "code",
   "execution_count": null,
   "metadata": {},
   "outputs": [],
   "source": []
  },
  {
   "cell_type": "code",
   "execution_count": null,
   "metadata": {},
   "outputs": [],
   "source": []
  }
 ],
 "metadata": {
  "language_info": {
   "name": "python"
  },
  "orig_nbformat": 4
 },
 "nbformat": 4,
 "nbformat_minor": 2
}
