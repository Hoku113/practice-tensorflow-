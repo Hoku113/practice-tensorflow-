{
 "cells": [
  {
   "cell_type": "markdown",
   "metadata": {},
   "source": [
    "# Inbit Weaning using 3DCNN video"
   ]
  },
  {
   "cell_type": "markdown",
   "metadata": {},
   "source": [
    "### SetUp\n",
    "\n",
    "in this section using BAIR dataset. \\\n",
    "But bair training dataset size is 30GB. \\\n",
    "now, you have downloaded 190MB test data."
   ]
  },
  {
   "cell_type": "code",
   "execution_count": null,
   "metadata": {},
   "outputs": [],
   "source": [
    "import tensorflow as tf\n",
    "import matplotlib.pyplot as plt\n",
    "import numpy as np\n",
    "import seaborn as sns\n",
    "import tensorflow_hub as hub\n",
    "import tensorflow_datasets as tfds\n",
    "from tensorflow_datasets.core import SplitGenerator\n",
    "from tensorflow_datasets.video.bair_robot_pushing import BairRobotPushingSmall\n",
    "import tempfile\n",
    "import pathlib\n",
    "\n",
    "TEST_DIR = pathlib.Path(tempfile.mkdtemp()) / \"bair_robot_pushing_small/softmotion30_44k/test/\"\n",
    "\n",
    "print(TEST_DIR)\n"
   ]
  },
  {
   "cell_type": "code",
   "execution_count": null,
   "metadata": {},
   "outputs": [],
   "source": [
    "import subprocess\n",
    "\n",
    "cmd = \"mkdir -p {}\".format(TEST_DIR)\n",
    "# Download the test split to $TEST_DIR\n",
    "subprocess.run(cmd, shell=True)\n",
    "# subprocess.check_call(\"curl -nv https://storage.googleapis.com/download.tensorflow.org/data/bair_test_traj_0_to_255.tfrecords -O {}/traj_0_to_255.tfrecords\".format(TEST_DIR), shell=True)"
   ]
  },
  {
   "cell_type": "code",
   "execution_count": null,
   "metadata": {},
   "outputs": [],
   "source": [
    "# Since the dataset builder expects the train and test split to be downloaded,\n",
    "# patch it so it only expects the test data to be available\n",
    "builder = BairRobotPushingSmall()\n",
    "test_generator = SplitGenerator(name='test', gen_kwargs={\"filedir\": str(TEST_DIR)})\n",
    "builder._split_generators = lambda _: [test_generator]\n",
    "builder.download_and_prepare()\n"
   ]
  },
  {
   "cell_type": "markdown",
   "metadata": {},
   "source": [
    "### BAIR: input Numpy array"
   ]
  },
  {
   "cell_type": "code",
   "execution_count": null,
   "metadata": {},
   "outputs": [],
   "source": [
    "# load some example data (BAIR)\n",
    "batch_size = 16\n",
    "\n",
    "# If unable to download the dataset automatically due to \"not enough disk space\", please download manually to Google Drive and\n",
    "# load using tf.data.TFRecordDataset\n",
    "ds = builder.as_dataset(split=\"test\")\n",
    "test_videos = ds.batch(batch_size)\n",
    "first_batch = next(iter(test_videos))\n",
    "input_frames = first_batch['image_aux1'][:, ::15]\n",
    "input_frames = tf.cast(input_frames, tf.float32)"
   ]
  },
  {
   "cell_type": "code",
   "execution_count": null,
   "metadata": {},
   "outputs": [],
   "source": [
    "# title Visualize loaded videos start and end frames\n",
    "\n",
    "print(\"Test videos shape [batch_size, start/end frame, height, width, num_channels]:\", input_frames.shape)\n",
    "sns.set_style('white')\n",
    "plt.figure(figsize=(4, 2*batch_size))\n",
    "\n",
    "for i in range(batch_size)[:4]:\n",
    "    plt.subplot(batch_size, 2, 1 + 2*i)\n",
    "    plt.imshow(input_frames[i, 0] / 255.0)\n",
    "    plt.title(f'Video {i}: First frame'.format(i))\n",
    "    plt.axis('off')\n",
    "    plt.subplot(batch_size, 2, 2 + 2*i)\n",
    "    plt.imshow(input_frames[i, 1] / 255.0)\n",
    "    plt.title(f\"Video {i}: Last frame\")\n",
    "    plt.axis('off')"
   ]
  },
  {
   "cell_type": "code",
   "execution_count": null,
   "metadata": {},
   "outputs": [],
   "source": [
    "# Loading Hub module\n",
    "hub_handle = 'https://tfhub.dev/google/tweening_conv3d_bair/1'\n",
    "module = hub.load(hub_handle).signatures['default']"
   ]
  },
  {
   "cell_type": "markdown",
   "metadata": {},
   "source": [
    "### Generate and visualize video"
   ]
  },
  {
   "cell_type": "code",
   "execution_count": null,
   "metadata": {},
   "outputs": [],
   "source": [
    "filled_frames = module(input_frames)['default'] / 255.0"
   ]
  },
  {
   "cell_type": "code",
   "execution_count": null,
   "metadata": {},
   "outputs": [],
   "source": [
    "# Show sequences of generated video frames\n",
    "# Concatenate start/end frames and the generated filled frames for the new videos\n",
    "\n",
    "generated_videos = np.concatenate([input_frames[:, :1] / 255.0, filled_frames, input_frames[:, 1:] / 255.0], axis=1)\n",
    "\n",
    "for video_id in range(4):\n",
    "    fig = plt.figure(figsize=(10*2, 2))\n",
    "    for frame_id in range(1, 16):\n",
    "        ax = fig.add_axes([frame_id * 1 / 16., 0, (frame_id + 1) * 1 / 16., 1], xmargin=0, ymargin=0)\n",
    "        ax.imshow(generated_videos[video_id, frame_id])\n",
    "        ax.axis('off')"
   ]
  },
  {
   "cell_type": "code",
   "execution_count": null,
   "metadata": {},
   "outputs": [],
   "source": []
  },
  {
   "cell_type": "code",
   "execution_count": null,
   "metadata": {},
   "outputs": [],
   "source": []
  },
  {
   "cell_type": "code",
   "execution_count": null,
   "metadata": {},
   "outputs": [],
   "source": []
  }
 ],
 "metadata": {
  "kernelspec": {
   "display_name": "Python 3.9.5 64-bit",
   "language": "python",
   "name": "python3"
  },
  "language_info": {
   "codemirror_mode": {
    "name": "ipython",
    "version": 3
   },
   "file_extension": ".py",
   "mimetype": "text/x-python",
   "name": "python",
   "nbconvert_exporter": "python",
   "pygments_lexer": "ipython3",
   "version": "3.9.5"
  },
  "orig_nbformat": 4,
  "vscode": {
   "interpreter": {
    "hash": "cc688668df90e2da2c6fe127a4fae0fc63e05cce4be11dcfea3b7cd731a68cc0"
   }
  }
 },
 "nbformat": 4,
 "nbformat_minor": 2
}
