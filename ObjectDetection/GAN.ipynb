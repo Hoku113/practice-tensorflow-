{
 "cells": [
  {
   "cell_type": "markdown",
   "metadata": {},
   "source": [
    "# Practice GAN usgin tensorflow"
   ]
  },
  {
   "cell_type": "markdown",
   "metadata": {},
   "source": [
    "### Setup"
   ]
  },
  {
   "cell_type": "code",
   "execution_count": 2,
   "metadata": {},
   "outputs": [],
   "source": [
    "from absl import logging\n",
    "\n",
    "import imageio\n",
    "import PIL.Image\n",
    "import matplotlib.pyplot as plt\n",
    "import numpy as np\n",
    "\n",
    "import tensorflow as tf\n",
    "tf.random.set_seed(0)\n",
    "\n",
    "import tensorflow_hub as hub\n",
    "from tensorflow_docs.vis import embed\n",
    "import time\n",
    "\n",
    "try:\n",
    "    from google.colab import files\n",
    "except ImportError:\n",
    "    pass\n",
    "\n",
    "from IPython import display\n",
    "from skimage import transform"
   ]
  },
  {
   "cell_type": "markdown",
   "metadata": {},
   "source": [
    "### Define helper function"
   ]
  },
  {
   "cell_type": "code",
   "execution_count": 3,
   "metadata": {},
   "outputs": [],
   "source": [
    "\"\"\" We could retrieve this value from module.get_input_shapes() if we didn't know\n",
    "    beforehand which module we will be using\"\"\"\n",
    "\n",
    "latent_dim = 512\n",
    "\n",
    "\"\"\"\n",
    "Interpolates between two vectors that are non-zero and don't both lie on a \n",
    "line going through origin. First normalizes v2 to have the same norm as v1.\n",
    "Then interpolates between the tow vectors on the hypersphere.\n",
    "\"\"\"\n",
    "\n",
    "def interpolate_hypersphere(v1, v2, num_steps):\n",
    "    v1_norm = tf.norm(v1)\n",
    "    v2_norm = tf.norm(v2)\n",
    "    v2_normalzied = v2 * (v1_norm / v2_norm)\n",
    "\n",
    "    vectors = []\n",
    "    for step in range(num_steps):\n",
    "        interpolated = v1 + (v2_normalzied - v1) * step / (num_steps - 1)\n",
    "        interpolated_norm = tf.norm(interpolated)\n",
    "        interpolated_normalized = interpolated * (v1_norm / interpolated_norm)\n",
    "        vectors.append(interpolated_normalized)\n",
    "    return tf.stack(vectors)\n",
    "\n",
    "# simple way to display an image\n",
    "def display_image(image):\n",
    "    image = tf.constant(image)\n",
    "    image = tf.image.convert_image_dtype(image, tf.uint8)\n",
    "    return PIL.Image.fromarray(image.numpy())\n",
    "\n",
    "# Given a set of images, show an animation\n",
    "def animate(iamges):\n",
    "    images = np.array(images)\n",
    "    converted_images = np.clip(images * 255, 0, 255).astype(np.uint8)\n",
    "    imageio.mimsave('./animation.gif', converted_images)\n",
    "    return embed.embed_file('./animation.gif')\n",
    "\n",
    "logging.set_verbosity(logging.ERROR)\n"
   ]
  },
  {
   "cell_type": "code",
   "execution_count": 4,
   "metadata": {},
   "outputs": [
    {
     "data": {
      "text/plain": [
       "<ConcreteFunction pruned(latent_vector) at 0x26BAD737FA0>"
      ]
     },
     "execution_count": 4,
     "metadata": {},
     "output_type": "execute_result"
    }
   ],
   "source": [
    "# load GAN model\n",
    "progan = hub.load(\"https://tfhub.dev/google/progan-128/1\").signatures['default']\n",
    "\n",
    "progan\n"
   ]
  },
  {
   "cell_type": "code",
   "execution_count": null,
   "metadata": {},
   "outputs": [],
   "source": [
    "def interpolate_between_vectors():\n",
    "    v1 = tf.random.normal([latent_dim])\n",
    "    v2 = tf.random.normal([latent_dim])\n",
    "\n",
    "    # Creates a tensor with 25 steps of interpolation between v1 and v2.\n",
    "    vectors = interpolate_hypersphere(v1, v2, 50)\n",
    "\n",
    "    # Uses module to generate images from the latent space.\n",
    "    interpolated_images = progan(vectors)['default']\n",
    "\n",
    "    return interpolated_images\n",
    "\n",
    "interpolated_images = interpolate_between_vectors()\n",
    "animate(interpolated_images)"
   ]
  }
 ],
 "metadata": {
  "kernelspec": {
   "display_name": "Python 3.9.5 64-bit",
   "language": "python",
   "name": "python3"
  },
  "language_info": {
   "codemirror_mode": {
    "name": "ipython",
    "version": 3
   },
   "file_extension": ".py",
   "mimetype": "text/x-python",
   "name": "python",
   "nbconvert_exporter": "python",
   "pygments_lexer": "ipython3",
   "version": "3.9.5"
  },
  "orig_nbformat": 4,
  "vscode": {
   "interpreter": {
    "hash": "cc688668df90e2da2c6fe127a4fae0fc63e05cce4be11dcfea3b7cd731a68cc0"
   }
  }
 },
 "nbformat": 4,
 "nbformat_minor": 2
}
