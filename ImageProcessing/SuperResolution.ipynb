{
 "cells": [
  {
   "cell_type": "markdown",
   "metadata": {},
   "source": [
    "### Super Resolution (ESRGAN)\n",
    "\n",
    "Correction of images downsampled by the [biucubic method](https://arxiv.org/pdf/1809.00219.pdf)\n"
   ]
  },
  {
   "cell_type": "code",
   "execution_count": null,
   "metadata": {},
   "outputs": [],
   "source": [
    "import os\n",
    "import time\n",
    "from PIL import Image\n",
    "import numpy as np\n",
    "import tensorflow as tf\n",
    "import tensorflow_hub as hub\n",
    "import matplotlib.pyplot as plt\n",
    "import codecs\n",
    "os.environ[\"TFHUB_DOWNLOAD_PROGRESS\"] = 'True'"
   ]
  },
  {
   "cell_type": "code",
   "execution_count": null,
   "metadata": {},
   "outputs": [],
   "source": [
    "# Declaring Constants\n",
    "IMAGE_PATH = \"./images/your_imagefile.png\"\n",
    "SAVED_MODEL_PATH = \"https://tfhub.dev/captain-pool/esrgan-tf2/1\"\n"
   ]
  },
  {
   "cell_type": "markdown",
   "metadata": {},
   "source": [
    "### Create Helper function"
   ]
  },
  {
   "cell_type": "code",
   "execution_count": null,
   "metadata": {},
   "outputs": [],
   "source": [
    "def preprocess_image(image_path):\n",
    "    hr_image = tf.image.decode_image(tf.io.read_file(image_path))\n",
    "    # remove alpha channel if image extension is PNG file\n",
    "    # The model supported 3 colors channel!\n",
    "    if hr_image.shape[-1] == 4:\n",
    "        hr_image = hr_image[..., :-1]\n",
    "    hr_size = (tf.convert_to_tensor(hr_image.shape[:-1]) // 4) * 4\n",
    "    hr_image = tf.image.crop_to_bounding_box(hr_image, 0, 0, hr_size[0], hr_size[1])\n",
    "    hr_image = tf.cast(hr_image, tf.float32)\n",
    "    return tf.expand_dims(hr_image, 0)\n",
    "\n",
    "def save_image(image, filename):\n",
    "    if not isinstance(image, Image.Image):\n",
    "        image = tf.clip_by_value(image, 0, 255)\n",
    "        image = Image.fromarray(tf.cast(image, tf.uint8).numpy())\n",
    "    image.save(f\"{filename}.jpg\")    \n",
    "    print(f\"Saved as {filename}.jpg\")\n",
    "\n",
    "def plot_image(image, title=\"\"):\n",
    "    image = np.asarray(image)\n",
    "    image = tf.clip_by_value(image, 0, 255)\n",
    "    image = Image.fromarray(tf.cast(image, tf.uint8).numpy())\n",
    "    plt.imshow(image)\n",
    "    plt.axis('off')\n",
    "    plt.title(title)\n",
    "\n",
    "# Defining helper functions\n",
    "def downscale_image(image):\n",
    "    image_size = []\n",
    "    if len(image.shape) == 3:\n",
    "        image_size = [image.shape[1], image.shape[0]]\n",
    "    else:\n",
    "        raise ValueError(\"Diension mismatch, Can work only on single image\")\n",
    "\n",
    "    image = tf.squeeze(tf.cast(tf.clip_by_value(image, 0, 255), tf.uint8))\n",
    "\n",
    "    lr_image = np.asarray(Image.fromarray(image.numpy()).resize([image_size[0] // 4, image_size[1] // 4], Image.BICUBIC))\n",
    "\n",
    "    lr_image = tf.expand_dims(lr_image, 0)\n",
    "    lr_image = tf.cast(lr_image, tf.float32)\n",
    "    return lr_image"
   ]
  },
  {
   "cell_type": "markdown",
   "metadata": {},
   "source": [
    "### Start Super resolution\n",
    "\n",
    "In following these code, it is recognized using GPU"
   ]
  },
  {
   "cell_type": "code",
   "execution_count": null,
   "metadata": {},
   "outputs": [],
   "source": [
    "hr_image = preprocess_image(IMAGE_PATH)"
   ]
  },
  {
   "cell_type": "code",
   "execution_count": null,
   "metadata": {},
   "outputs": [],
   "source": [
    "model = hub.load(SAVED_MODEL_PATH)"
   ]
  },
  {
   "cell_type": "code",
   "execution_count": null,
   "metadata": {},
   "outputs": [],
   "source": [
    "start = time.time()\n",
    "fake_image = model(hr_image)\n",
    "fake_image = tf.squeeze(fake_image)\n",
    "print(f\"time taken: {(time.time() - start)}\")\n",
    "\n",
    "# Plotting Super Resolution image\n",
    "plot_image(tf.squeeze(fake_image), title=\"Super Resolution\")\n",
    "save_image(tf.squeeze(fake_image), filename=\"Super Resolution\")"
   ]
  },
  {
   "cell_type": "code",
   "execution_count": null,
   "metadata": {},
   "outputs": [],
   "source": [
    "# in this code , using sys module and executed linux commad\n",
    "!wget \"https://lh4.googleusercontent.com/-Anmw5df4gj0/AAAAAAAAAAI/AAAAAAAAAAc/6HxU8XFLnQE/photo.jpg64\" -O test.jpg\n",
    "IMAGE_PATH = \"test.jpg\"\n"
   ]
  },
  {
   "cell_type": "code",
   "execution_count": null,
   "metadata": {},
   "outputs": [],
   "source": [
    "hr_image = preprocess_image(IMAGE_PATH)\n",
    "lr_image = downscale_image(tf.squeeze(hr_image))"
   ]
  },
  {
   "cell_type": "code",
   "execution_count": null,
   "metadata": {},
   "outputs": [],
   "source": [
    "# Plotting Low Resolution Image\n",
    "plot_image(tf.squeeze(lr_image), title=\"Low Resolution\")"
   ]
  },
  {
   "cell_type": "code",
   "execution_count": null,
   "metadata": {},
   "outputs": [],
   "source": [
    "model = hub.load(SAVED_MODEL_PATH)"
   ]
  },
  {
   "cell_type": "code",
   "execution_count": null,
   "metadata": {},
   "outputs": [],
   "source": [
    "start = time.time()\n",
    "fake_image = model(lr_image)\n",
    "fake_image = tf.squeeze(fake_image)\n",
    "print(f\"time taken: {time.time() - start}\")"
   ]
  },
  {
   "cell_type": "code",
   "execution_count": null,
   "metadata": {},
   "outputs": [],
   "source": [
    "plot_image(tf.squeeze(fake_image), title=\"'Super Resolution\")\n",
    "# Calculating PSNR wrt Original Image\n",
    "psnr = tf.image.psnr(\n",
    "    tf.clip_by_value(fake_image, 0, 255),\n",
    "    tf.clip_by_value(hr_image, 0, 255), max_val=255\n",
    ")\n",
    "\n",
    "print(f\"PSNR Achieved: {psnr}\")"
   ]
  },
  {
   "cell_type": "code",
   "execution_count": null,
   "metadata": {},
   "outputs": [],
   "source": [
    "# Compare images\n",
    "plt.rcParams['figure.figsize'] = [15, 10]\n",
    "fig, axes = plt.subplots(1, 3)\n",
    "fig.tight_layout()\n",
    "plt.subplot(131)\n",
    "plot_image(tf.squeeze(hr_image), title=\"Original\")\n",
    "plt.subplot(132)\n",
    "fig.tight_layout()\n",
    "plot_image(tf.squeeze(lr_image), \"x4 Bicubic\")\n",
    "plt.subplot(133)\n",
    "fig.tight_layout()\n",
    "plot_image(tf.squeeze(fake_image), \"Super Resolution\")\n",
    "plt.savefig(\"ESRGAN_DIV2K.jpg\", bbox_inches='tight')\n",
    "print(f\"PSNR: {psnr}\")"
   ]
  },
  {
   "cell_type": "code",
   "execution_count": null,
   "metadata": {},
   "outputs": [],
   "source": []
  },
  {
   "cell_type": "code",
   "execution_count": null,
   "metadata": {},
   "outputs": [],
   "source": []
  },
  {
   "cell_type": "code",
   "execution_count": null,
   "metadata": {},
   "outputs": [],
   "source": []
  }
 ],
 "metadata": {
  "kernelspec": {
   "display_name": "Python 3.9.5 64-bit",
   "language": "python",
   "name": "python3"
  },
  "language_info": {
   "codemirror_mode": {
    "name": "ipython",
    "version": 3
   },
   "file_extension": ".py",
   "mimetype": "text/x-python",
   "name": "python",
   "nbconvert_exporter": "python",
   "pygments_lexer": "ipython3",
   "version": "3.9.5"
  },
  "orig_nbformat": 4,
  "vscode": {
   "interpreter": {
    "hash": "cc688668df90e2da2c6fe127a4fae0fc63e05cce4be11dcfea3b7cd731a68cc0"
   }
  }
 },
 "nbformat": 4,
 "nbformat_minor": 2
}
